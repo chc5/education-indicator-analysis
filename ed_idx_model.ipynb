{
  "nbformat": 4,
  "nbformat_minor": 0,
  "metadata": {
    "colab": {
      "name": "Copy of ed_idx_model.ipynb",
      "version": "0.3.2",
      "provenance": [],
      "collapsed_sections": []
    },
    "language_info": {
      "codemirror_mode": {
        "name": "ipython",
        "version": 3
      },
      "file_extension": ".py",
      "mimetype": "text/x-python",
      "name": "python",
      "nbconvert_exporter": "python",
      "pygments_lexer": "ipython3",
      "version": "3.7.1"
    },
    "kernelspec": {
      "display_name": "Python 3",
      "language": "python",
      "name": "python3"
    }
  },
  "cells": [
    {
      "cell_type": "markdown",
      "metadata": {
        "colab_type": "text",
        "id": "qZZOxwfQvhYP"
      },
      "source": [
        "**Educational Attainment and Success**\n",
        "\n",
        "\n",
        "---\n",
        "\n",
        "\n",
        "Chieh-Huang Chen \\\n",
        "Melvin Cherian \\\n",
        "Michael LI \\\n",
        "\n",
        "\n",
        "---\n",
        "\n",
        "Course: CSC 59970 - Introduction to Data Science \\\n",
        "Instructor: Grant M. Long\n",
        "Project\n",
        "\n"
      ]
    },
    {
      "cell_type": "markdown",
      "metadata": {
        "colab_type": "text",
        "id": "WYANkyJow0HW"
      },
      "source": [
        "**Goals for this Project**\n",
        "\n",
        "1.  Apply Python to load, clean, and process data sets.\n",
        "2.  Identify key patterns in a data set using computational analysis and statistical methods.\n",
        "3.  Apply principles of statistical modeling and machine learning to data.\n",
        "4.  Effectively explain, visualize, and communicate empirical findings.\n",
        "\n",
        "\n",
        "---\n",
        "\n",
        "**Our Questions**\n",
        "\n",
        "\n",
        "*   What human development indicators strongly correlate with adult education level in countries?\n",
        "*   What are significant factors from each major category from the human development dataset that determines adult education level in countries?\n",
        "*   Which countries have a strong potential in increasing their education level within the next five years?\n",
        "\n",
        "\n",
        "---\n"
      ]
    },
    {
      "cell_type": "markdown",
      "metadata": {
        "colab_type": "text",
        "id": "roaXF2L2_HmS"
      },
      "source": [
        "*Libraries*\n",
        "\n",
        "\n",
        "*   Numpy\n",
        "*   Pandas\n",
        "*   Matplotlib\n",
        "*   Scikit-learn\n",
        "*   Statsmodels\n"
      ]
    },
    {
      "cell_type": "code",
      "metadata": {
        "colab_type": "code",
        "id": "MpsfjMdHD2uR",
        "colab": {}
      },
      "source": [
        "# Libraries\n",
        "import numpy as np\n",
        "import pandas as pd\n",
        "import matplotlib.pyplot as plt\n",
        "import statsmodels.api as sm\n",
        "from sklearn.linear_model import LinearRegression\n",
        "from sklearn.model_selection import TimeSeriesSplit, cross_val_score"
      ],
      "execution_count": 0,
      "outputs": []
    },
    {
      "cell_type": "markdown",
      "metadata": {
        "colab_type": "text",
        "id": "G6XWO6zm-05I"
      },
      "source": [
        "*Loading Data into Memory*\n",
        "\n",
        "---\n",
        "\n",
        "We loaded Human Development Indicators (HDI) dataset into memory.\n",
        "\n",
        "We specifically removed column 9999 from our dataset because it only shows the latest value from the data drawn within 1990 to 2017. In this analysis, we analyzed these indicators over time to predict the future of education level in each country."
      ]
    },
    {
      "cell_type": "code",
      "metadata": {
        "colab_type": "code",
        "id": "DeLRr771D2uY",
        "colab": {}
      },
      "source": [
        "# Loading Datasets on to DataFrames\n",
        "indicators_url = 'https://github.com/chc5/education-indicator-analysis/raw/master/2018_all_indicators.csv'\n",
        "\n",
        "inds_df = pd.read_csv(indicators_url)\n",
        "\n",
        "inds_df = inds_df.drop(columns=['9999'])"
      ],
      "execution_count": 0,
      "outputs": []
    },
    {
      "cell_type": "markdown",
      "metadata": {
        "colab_type": "text",
        "id": "8EVt0okmATn3"
      },
      "source": [
        "Many of our HDIs only have zero or one recordings in the dataset in years between 1990 to 2017. Due to the lack of data over time, we decided to remove these indicators that has at most 2 data points in each row.\n",
        "\n",
        "When we removed these indicators, it cleans up at least 28% of the HDI dataset."
      ]
    },
    {
      "cell_type": "code",
      "metadata": {
        "colab_type": "code",
        "id": "7xyRK5lTD2ub",
        "colab": {}
      },
      "source": [
        "threshold = 2\n",
        "drop_stack = set()\n",
        "length_before = len(inds_df)\n",
        "print(\"Number of rows in the indicators data frame before the cleanup:\", length_before)\n",
        "for index, row in inds_df.iterrows():\n",
        "    if row['1990':].count() <= threshold:\n",
        "        drop_stack.add(index)\n",
        "\n",
        "inds_df = inds_df.drop(drop_stack)\n",
        "length_after = len(inds_df)\n",
        "print(\"Number of rows in the indicators data frame after the cleanup:\", length_after)\n",
        "print(\"% of rows deleted: {0:.2f}%\".format((length_before - length_after) * 100 / length_after))\n"
      ],
      "execution_count": 0,
      "outputs": []
    },
    {
      "cell_type": "markdown",
      "metadata": {
        "colab_type": "text",
        "id": "w75CGvKJCy12"
      },
      "source": [
        "*Plotting Correlations for each country*\n",
        "\n",
        "We have a method to retrieve each indicators for a country we specify for future uses."
      ]
    },
    {
      "cell_type": "code",
      "metadata": {
        "colab_type": "code",
        "id": "s5nIjAhAD2ul",
        "colab": {}
      },
      "source": [
        "def plot_corr(df,size=10):\n",
        "    '''Function plots a graphical correlation matrix for each pair of columns in the dataframe.\n",
        "\n",
        "    Input:\n",
        "        df: pandas DataFrame\n",
        "        size: vertical and horizontal size of the plot'''\n",
        "    # https://stackoverflow.com/questions/29432629/plot-correlation-matrix-using-pandas/31384328#31384328\n",
        "    corr = df.corr()\n",
        "    fig, ax = plt.subplots(figsize=(size, size))\n",
        "    ax.matshow(corr)\n",
        "    plt.xticks(range(len(corr.columns)), corr.columns);\n",
        "    plt.yticks(range(len(corr.columns)), corr.columns);\n",
        "    \n",
        "  \n",
        "def plot_corr_country(df, country):\n",
        "  # drop ids etc., get only rows with country, transpose\n",
        "  df_corr = inds_df.drop(df.columns[[0, 1, 3]], axis=1)[df.country_name == country].T\n",
        "  # fix columns\n",
        "  df_corr.columns = df_corr.iloc[0]\n",
        "  # drop first two rops\n",
        "  df_corr = df_corr[2:]\n",
        "  # df_corr = inds_df.drop(inds_df.columns[[0, 1, 3]], axis=1).drop(inds_df.columns[range(5,32)], axis=1)[inds_df.country_name == \"Albania\"]\n",
        "  df_corr = df_corr.apply(pd.to_numeric)\n",
        "#   plot_corr(df_corr, size=20)\n",
        "  return df_corr"
      ],
      "execution_count": 0,
      "outputs": []
    },
    {
      "cell_type": "markdown",
      "metadata": {
        "colab_type": "text",
        "id": "wg31PZDKDZdH"
      },
      "source": [
        "### How do we determine the strongest indicators to Education Index for each country?\n",
        "\n",
        "**Education Index:** A standard created by United Nations that determines educational attainment for each country. \\\n",
        "**Formula:** MYSI + EYSI / 2 \\\n",
        "Mean Years of Schooling Index(MYSI): MYS / 15 \\\n",
        "Mean Years of Schooling(MYS): Average number of years of education received by people ages 25 and older. \\\n",
        "Expected Years of Schooling Index(EYSI): EYS / 18 \\\n",
        "Expected Years of Schooling(EYS): The number of years a child is expected to attend school, or university, including the years spent on repetition. \\\n",
        "\n",
        "*Source: https://en.wikipedia.org/wiki/Education_Index* \n",
        "\n",
        "\n",
        "\n",
        "---\n",
        "\n",
        "\n",
        "We get the strongest correlations for each country by getting the correlation coefficient between the Education Index to every other indicator in the row for that country. By squaring the correlation coefficient, we get the correlation of determination (R^2) which tells us the percentage of the variance in our dependent variable that can be explained by our independent variable. In this case, we sorted the indicators based on the correlation of determination and remove all the indicators where its correlation of determination to the Education Index is less than 0.7.\n",
        "\n",
        "We then dropped the indicators that are directly dependent to the Education Index based on the formula such as 'Education index', 'Expected years of schooling (years)' and 'Mean years of schooling (years)'."
      ]
    },
    {
      "cell_type": "code",
      "metadata": {
        "colab_type": "code",
        "id": "x9PDmJYJAiLN",
        "colab": {}
      },
      "source": [
        "# Get the strongest indicators towards the Education Index by getting the strongest correlation of determination (R^2)\n",
        "# between every other indicators to the Education Index. \n",
        "def get_strongest_correlations(df_corr, indicator, num_indicators = 100, threshold=0.7):\n",
        "    correlations = []\n",
        "    for row in df_corr.corr():\n",
        "        corr_determ = df_corr.corr()[row][indicator] ** 2\n",
        "        if corr_determ >= threshold:\n",
        "          correlations.append([row, corr_determ])\n",
        "    \n",
        "    correlations.sort(key = lambda corr: corr[1], reverse=True)\n",
        "    return correlations[:num_indicators]"
      ],
      "execution_count": 0,
      "outputs": []
    },
    {
      "cell_type": "markdown",
      "metadata": {
        "colab_type": "text",
        "id": "TJ5YIw-oUbOu"
      },
      "source": [
        "*Grouping Indicators Based on Categories* \\\n",
        "The methods below groups these indicators to categories found in the dataset. The dataset we used have categorized closely related indicators and by taking advantage of these categories, we can assume that the indicators are not multicollinear because their dependences of these indicators aren't closely related with each other based on context of these indicators."
      ]
    },
    {
      "cell_type": "code",
      "metadata": {
        "colab_type": "code",
        "id": "lHnvQ6lrU32n",
        "colab": {}
      },
      "source": [
        "# Map indicators to categories\n",
        "def map_ind_to_categories(df):\n",
        "  ind_map = {}\n",
        "  mapped_inds = df.groupby(['dimension', 'indicator_name']).size().reset_index().rename(columns={0:'count'})\n",
        "  for index, row in mapped_inds.iterrows():\n",
        "    ind_map[row['indicator_name']] = row['dimension']\n",
        "  return ind_map\n",
        "\n",
        "def group_indicators(df, potential_indicators):\n",
        "  ind_map = map_ind_to_categories(df)\n",
        "  groups = {}\n",
        "  features = []\n",
        "  for p in potential_indicators:\n",
        "    if ind_map[p[0]] not in groups:\n",
        "      groups[ind_map[p[0]]] = [p]\n",
        "    else:\n",
        "      groups[ind_map[p[0]]].append(p)\n",
        "  for g in groups:\n",
        "    features.append(max(groups[g], key=lambda g: g[1])[0])\n",
        "  return features"
      ],
      "execution_count": 0,
      "outputs": []
    },
    {
      "cell_type": "markdown",
      "metadata": {
        "colab_type": "text",
        "id": "GejRn60CVlvF"
      },
      "source": [
        "*Selecting our Indicators for Modeling Purposes* \\\n",
        "In our model in predicting Education Index for each country, we selected one indicator from each category as our predictors for country. These indicators that we've chosen will not be collinear with each other under the assumption that these indicators are only closely related with the categories that they belong in the dataset."
      ]
    },
    {
      "cell_type": "code",
      "metadata": {
        "colab_type": "code",
        "id": "2jJVlRZ_7jym",
        "colab": {}
      },
      "source": [
        "# Get potential indicators from countries\n",
        "def get_potential_indicators(df, country, target, ignored_features=[], grouped=True):\n",
        "  country_df = plot_corr_country(df, country)\n",
        "  if target not in country_df:\n",
        "#     print(\"{} does not have an {}\".format(country, target))\n",
        "    return []\n",
        "  potential_indicators = get_strongest_correlations(country_df, target)\n",
        "  potential_indicators = [p for p in potential_indicators if p[0] not in ignored_features]\n",
        "  features = [p[0] for p in potential_indicators] \n",
        "  if grouped:\n",
        "    features = group_indicators(df, potential_indicators)\n",
        "  return features\n"
      ],
      "execution_count": 0,
      "outputs": []
    },
    {
      "cell_type": "markdown",
      "metadata": {
        "colab_type": "text",
        "id": "NQCit1dSYDBZ"
      },
      "source": [
        "*Retrieving our Potential Indicators for Each Country* \\\n",
        "We then retrieve all the indicators that we will be using for each country based on our explanation from above. Note that there are some countries that does not have an Education Index (e.g. North Korea) due to a lack of information."
      ]
    },
    {
      "cell_type": "code",
      "metadata": {
        "colab_type": "code",
        "id": "KkCuzZ-eLVMS",
        "colab": {}
      },
      "source": [
        "# Dropping 'Education index', 'Expected years of schooling (years)', \n",
        "# 'Mean years of schooling (years)' and others \n",
        "# because they are part of the Education Index formula\n",
        "dep_ed_ind = [ 'Education index', \n",
        "               'Expected years of schooling (years)', \n",
        "               'Mean years of schooling (years)', \n",
        "               'Expected years of schooling, female (years)', \n",
        "               'Mean years of schooling, female (years)',\n",
        "               'Expected years of schooling, male (years)',\n",
        "               'Expected years of schooling, male (years)',\n",
        "               'Mean years of schooling, male (years)',\n",
        "               'Inequality-adjusted education index'\n",
        "              ]   \n",
        "\n",
        "target = 'Education index'\n",
        "country_indicators = {}\n",
        "country_names = inds_df.country_name.unique()\n",
        "for c in country_names:\n",
        "  features = get_potential_indicators(inds_df, c, target, dep_ed_ind, True)\n",
        "  if len(features) != 0:\n",
        "    country_indicators[c] = features\n"
      ],
      "execution_count": 0,
      "outputs": []
    },
    {
      "cell_type": "markdown",
      "metadata": {
        "colab_type": "text",
        "id": "wthg_g2Ida55"
      },
      "source": [
        "*Preprocessing Our Dataset In Preparation for Our Model* \\\n",
        "In our dataset, the data that we saw are transposed where the years and the values are columns. After transposing, we had an option to remove rows that have missing data. However, we chose to fill out the missing data using a linear regression model because the dataset we are currently using has a lot of missing data. Filling data in with the model worked better for us than filling in the missing data with the mean value for each column.\n",
        "\n",
        "We have provided a scatterplot for these indicators as reference in proving that the data is linear in form. Finally, we returned a dataset that will be used to predict our Education Index along with a collection of regressors that we've used to map years to our indicators."
      ]
    },
    {
      "cell_type": "code",
      "metadata": {
        "colab_type": "code",
        "id": "W6ZzQ663zdtO",
        "colab": {}
      },
      "source": [
        "# Transpose the data frame to only have years and values as columns\n",
        "def transpose_yearly_values(df):\n",
        "  df = df.drop(columns=['dimension', 'indicator_id', 'iso3', 'country_name'])\n",
        "  df = df.set_index('indicator_name').transpose()\n",
        "  df['Year'] = pd.to_numeric(df.index)\n",
        "  return df\n",
        "\n",
        "# Predicting the missing values using Linear Regression Models\n",
        "# and then filling out the missing values based on the model\n",
        "# Preserve the Linear Regression for future uses\n",
        "def build_regressors(inds_df, country, indicators):\n",
        "  country_df = inds_df.loc[inds_df['country_name'] == country]\n",
        "  reg_inds = {}\n",
        "  filled_indicators = pd.DataFrame(data={'Year':pd.to_numeric(country_df.columns[5:].values)})\n",
        "  for ind in indicators:\n",
        "    ind_df = country_df.loc[country_df['indicator_name'] == ind]\n",
        "    values_df = transpose_yearly_values(ind_df)\n",
        "    \n",
        "    # Get the missing values in each year and predict them later on.\n",
        "    missing_years = values_df[values_df[ind].isnull()].Year.values\n",
        "    values_df = values_df.dropna()\n",
        "    \n",
        "    # Fit the data to the Linear Regression and predict the values\n",
        "    X = values_df['Year'].values.reshape(-1, 1)\n",
        "    Y = values_df[ind].values.reshape(-1, 1)\n",
        "    reg = LinearRegression()\n",
        "    reg.fit(X, Y)\n",
        "    \n",
        "    # Filling out the missing data back to values_df\n",
        "    if missing_years.size > 0:\n",
        "      missing_years = missing_years.reshape(-1, 1)\n",
        "      missing_values = reg.predict(missing_years)\n",
        "      missing_years = missing_years.reshape(1, -1)[0]\n",
        "      missing_values = missing_values.reshape(1, -1)[0]\n",
        "      predicted_df = pd.DataFrame({'Year': missing_years, ind: missing_values})\n",
        "      values_df = values_df.append(predicted_df, sort=False)\n",
        "    # Preserve the filled out data and the regression for future uses\n",
        "    reg_inds[ind] = reg\n",
        "    filled_indicators = filled_indicators.merge(values_df, left_on='Year', right_on='Year')\n",
        "  \n",
        "  return reg_inds, filled_indicators\n"
      ],
      "execution_count": 0,
      "outputs": []
    },
    {
      "cell_type": "markdown",
      "metadata": {
        "colab_type": "text",
        "id": "LcT9qjj5lKBU"
      },
      "source": [
        "*Building our Models* \\\n",
        "In our final step, we built the multiple regression model by using our indicators as our predictors and our Education Index as our target. In order to ensure that our model works for future values, we used a time-split cross-validation technique to predict the last 5 years using the values between 1990 to 2011.\n",
        "\n",
        "We also have a method to predict the Education Index by the year where we get all the predicted values of the Education Index by getting the predicted values for our predictors first from the regression model. Using these predicted predictors, we would predict the Education Index in the multiple linear regression model. \n"
      ]
    },
    {
      "cell_type": "code",
      "metadata": {
        "colab_type": "code",
        "id": "oLXj4-fjKWz4",
        "colab": {}
      },
      "source": [
        "class EducationIndexModel:\n",
        "  def __init__(self, target='Education index'):\n",
        "    self.target = target\n",
        "    self.reg_created = False\n",
        "    \n",
        "  def fit(self, inds_df, country, indicators):\n",
        "    self.feature_regressors, self.features_df = build_regressors(inds_df, country, country_indicators[country])\n",
        "    self.features_df = self.features_df.drop(columns=['Year'])\n",
        "    self.target_regressor, self.target_df = build_regressors(inds_df, country, [target])\n",
        "    self.X = self.features_df.values\n",
        "    self.Y = self.target_df[target].values\n",
        "    self.reg = LinearRegression()\n",
        "    self.reg.fit(self.X, self.Y)\n",
        "    self.reg_created = True\n",
        "    \n",
        "  def predict_year(self, years):\n",
        "    if not self.reg_created:\n",
        "      print(\"Regression Model not Created\")\n",
        "      return None\n",
        "    predictors_df = pd.DataFrame({'Year': years})\n",
        "    years = np.array([years]).reshape(-1, 1)\n",
        "    for f in self.feature_regressors:\n",
        "      f_vals = self.feature_regressors[f].predict(years)\n",
        "      predictors_df[f] = f_vals.reshape(1, -1)[0]\n",
        "    X_pred = predictors_df.values\n",
        "    education_index = self.reg.predict(X_pred)\n",
        "    return education_index\n",
        "  \n",
        "  \n",
        "  def get_r2(self, adjusted=True):\n",
        "    if not self.reg_created:\n",
        "      print(\"Regression Model not Created\")\n",
        "      return None\n",
        "    Yhat = self.reg.predict(self.X)\n",
        "    SS_Residual = sum((self.Y-Yhat)**2)\n",
        "    SS_Total = sum((self.Y-np.mean(self.Y))**2)\n",
        "    r_squared = 1 - (float(SS_Residual))/SS_Total\n",
        "    if not adjusted:\n",
        "      return r_squared\n",
        "    else:\n",
        "      adjusted_r_squared = 1 - (1-r_squared)*(len(self.Y)-1)/(len(self.Y)-self.X.shape[1]-1)\n",
        "      return adjusted_r_squared\n",
        "  \n",
        "  # Training 75% of our dataset and testing it on the remaining 25%\n",
        "  def get_rmse(self, test_size=0.20):\n",
        "    train_index = range(int(len(self.X) * (1 - test_size)))\n",
        "    test_index = range(len(train_index), len(self.X))\n",
        "    X_train, X_test = self.X[train_index], self.X[test_index]\n",
        "    Y_train, Y_test = self.Y[train_index], self.Y[test_index]\n",
        "    cv_reg = LinearRegression()\n",
        "    cv_reg.fit(X_train, Y_train)\n",
        "    Y_pred = cv_reg.predict(X_test)\n",
        "    return np.sqrt(sum((Y_test - Y_pred)**2)/len(Y_pred))\n",
        "    \n",
        "  def get_simple_reg_r2(self):\n",
        "    if not self.reg_created:\n",
        "      print(\"Model not created\")\n",
        "      return None\n",
        "    r2 = self.target_regressor[self.target].score(\n",
        "        self.target_df['Year'].values.reshape(-1, 1),\n",
        "        self.Y)\n",
        "    return r2 \n",
        "  \n",
        "  def get_simple_reg_rmse(self, test_size=0.2):\n",
        "    train_index = range(int(len(self.X) * (1 - test_size)))\n",
        "    test_index = range(len(train_index), len(self.X))\n",
        "    X = self.target_df['Year'].values.reshape(-1, 1)\n",
        "    X_train, X_test = X[train_index], X[test_index]\n",
        "    Y_train, Y_test = self.Y[train_index], self.Y[test_index]\n",
        "    cv_reg = LinearRegression()\n",
        "    cv_reg.fit(X_train, Y_train)\n",
        "    Y_pred = cv_reg.predict(X_test)\n",
        "    return np.sqrt(sum((Y_test - Y_pred)**2)/len(Y_pred))\n",
        "  \n",
        "  def get_table_summary(self):\n",
        "    if not self.reg_created:\n",
        "      print(\"Model not created\")\n",
        "      return None\n",
        "    model = sm.OLS(self.Y, self.X).fit()\n",
        "    return model.summary()\n",
        "  \n",
        "  def get_simple_reg_table_summary(self):\n",
        "    if not self.reg_created:\n",
        "      print(\"Model not created\")\n",
        "      return None\n",
        "    model = sm.OLS(self.Y, self.target_df['Year'].values.reshape(-1,1)).fit()\n",
        "    return model.summary()\n"
      ],
      "execution_count": 0,
      "outputs": []
    },
    {
      "cell_type": "code",
      "metadata": {
        "colab_type": "code",
        "id": "9pppAgD54t-T",
        "colab": {}
      },
      "source": [
        "eim = EducationIndexModel()\n",
        "eim.fit(inds_df, \"United States\", country_indicators[\"United States\"])"
      ],
      "execution_count": 0,
      "outputs": []
    },
    {
      "cell_type": "markdown",
      "metadata": {
        "colab_type": "text",
        "id": "3G9zo7-rxHsu"
      },
      "source": [
        "*Taking a Look at Most Frequent Indicators for All Countries* \\\n",
        "Let's take a look at the indicators that pops up frequently in each countries. We counted all the indicators that popped up in all countries and ranked them based on their number of appearances.\n",
        "\n",
        "We also calculated the average number of indicators used in the model for each country."
      ]
    },
    {
      "cell_type": "code",
      "metadata": {
        "colab_type": "code",
        "id": "5rtb2iqWxU2t",
        "colab": {}
      },
      "source": [
        "top_indicators = {}\n",
        "for c in country_indicators:\n",
        "  for ind in country_indicators[c]:\n",
        "    if ind in top_indicators:\n",
        "      top_indicators[ind] += 1\n",
        "    else:\n",
        "      top_indicators[ind] = 1\n",
        "sorted_top_indicators = sorted(top_indicators.items(), key=lambda kv: kv[1], reverse=True)\n",
        "# print(\"Top Indicators Used for Each Country\")\n",
        "# for i, ind in enumerate(sorted_top_indicators, 1):\n",
        "#   print(\"{}. {} \\t Number of countries: {}\".format(i, ind[0], ind[1]))\n",
        "  \n",
        "# avg_predictors = sum(ind[1] for ind in sorted_top_indicators) / len(sorted_top_indicators)\n",
        "# print(\"Average amount of indicators used for each country's model:\", avg_predictors)"
      ],
      "execution_count": 0,
      "outputs": []
    },
    {
      "cell_type": "markdown",
      "metadata": {
        "colab_type": "text",
        "id": "QSAu0toFxtXI"
      },
      "source": [
        "*Testing Our Model Against a Simple Linear Regression Model* \\\n",
        "Let's take a look at how well our model performs against a simple linear regression model of Education Index versus Year for each country. We will use a time-split cross-validation technique and see how well each model does for each country. We will use the standard error (square root of mean squared error) to score each model. "
      ]
    },
    {
      "cell_type": "code",
      "metadata": {
        "colab_type": "code",
        "id": "2-D9GH36xt9N",
        "outputId": "bc840125-24db-4551-ad85-bc901a74cc79",
        "colab": {
          "base_uri": "https://localhost:8080/",
          "height": 123
        }
      },
      "source": [
        "success_model_r2_score, failed_model_r2_score = 0, 0\n",
        "success_simple_r2_score, failed_simple_r2_score = 0, 0\n",
        "better_mse_score, better_mse_score = 0, 0\n",
        "failed_models = []\n",
        "success_models = []\n",
        "outlier_models = []\n",
        "for c in country_indicators:\n",
        "  eim = EducationIndexModel()\n",
        "  eim.fit(inds_df, c, country_indicators[c])\n",
        "  model_se, simple_se = eim.get_rmse(), eim.get_simple_reg_rmse()\n",
        "  if model_se < simple_se:\n",
        "    success_models.append(c)\n",
        "    success_model_r2_score += eim.get_r2()\n",
        "    failed_simple_r2_score += eim.get_simple_reg_r2()\n",
        "  elif simple_se <= model_se and simple_se < 0.1:\n",
        "    failed_models.append(c)\n",
        "    success_simple_r2_score += eim.get_simple_reg_r2()\n",
        "    failed_model_r2_score += eim.get_r2()\n",
        "  else:\n",
        "    outlier_models.append(c)\n",
        "\n",
        "print(\"Number of Successful Models:\", len(success_models))\n",
        "print(\"Number of Failed Models:\", len(failed_models))\n",
        "print(\"Number of Outliers:\",len(outlier_models))\n",
        "print(\"Outliers: \", outlier_models)\n",
        "\n",
        "print(\"Success/Failed Model R^2 scores:\", success_model_r2_score/len(success_models), failed_model_r2_score/len(failed_models))\n",
        "print(\"Success/Failed Simple R^2 scores:\",success_simple_r2_score/len(failed_models), failed_simple_r2_score/len(success_models))"
      ],
      "execution_count": 13,
      "outputs": [
        {
          "output_type": "stream",
          "text": [
            "Number of Successful Models: 89\n",
            "Number of Failed Models: 97\n",
            "Number of Outliers: 1\n",
            "Outliers:  ['Syrian Arab Republic']\n",
            "Success/Failed Model R^2 scores: 0.9946684061211848 0.9828565576052194\n",
            "Success/Failed Simple R^2 scores: 0.9364371492253745 0.9153124237327221\n"
          ],
          "name": "stdout"
        }
      ]
    },
    {
      "cell_type": "code",
      "metadata": {
        "colab_type": "code",
        "id": "6Wya3qyLEj6u",
        "colab": {}
      },
      "source": [
        "def plot_top_indicators(top_indicators_vals):\n",
        "    x_vals = []\n",
        "    y_vals = []\n",
        "    amount = 20\n",
        "    for i in range(amount, -1, -1):\n",
        "        x_vals.append(top_indicators_vals[i][0])\n",
        "        y_vals.append(int(top_indicators_vals[i][1]))    \n",
        "    plt.figure(figsize=(10,10))\n",
        "    y_pos = np.arange(len(x_vals))\n",
        "    plt.barh(y_pos, y_vals, align='center')\n",
        "    plt.yticks(y_pos, x_vals)\n",
        "    plt.xlabel('Number of Countries')\n",
        "    plt.title(\"Highly-Correlated indicators to Education Index Frequency\")"
      ],
      "execution_count": 0,
      "outputs": []
    },
    {
      "cell_type": "code",
      "metadata": {
        "colab_type": "code",
        "id": "yMDC7N__Ej6w",
        "colab": {
          "base_uri": "https://localhost:8080/",
          "height": 621
        },
        "outputId": "33ef9a85-042c-4663-da24-1594d3f6f113"
      },
      "source": [
        "plot_top_indicators(sorted_top_indicators)"
      ],
      "execution_count": 15,
      "outputs": [
        {
          "output_type": "display_data",
          "data": {
            "image/png": "[encoded data removed]",
            "text/plain": [
              "<Figure size 720x720 with 1 Axes>"
            ]
          },
          "metadata": {
            "tags": []
          }
        }
      ]
    },
    {
      "cell_type": "markdown",
      "metadata": {
        "id": "p0P6RpLO5wzi",
        "colab_type": "text"
      },
      "source": [
        "The Effects of Life Expectancy on Education. We will be exploring the effect of life expectancy by examining mean years of schooling and pisa score data."
      ]
    },
    {
      "cell_type": "code",
      "metadata": {
        "colab_type": "code",
        "id": "9JPCfWUmEj6z",
        "colab": {}
      },
      "source": [
        "def plot_health(df, health_indep, target):\n",
        "    health_df = df.drop(df.columns[[0, 1, 3]], axis=1)\n",
        "    #obtain rows that have the indicator matching health_indep and target respectively\n",
        "    health_indicator_data = health_df[health_df.indicator_name == health_indep]\n",
        "    education_index = health_df[health_df.indicator_name == target]\n",
        "    #generate colors\n",
        "    number = len(health_indicator_data)\n",
        "    cmap = plt.get_cmap('gnuplot')\n",
        "    colors = [cmap(i) for i in np.linspace(0, 1, number)]\n",
        "    color_index = 0\n",
        "    for i in range(len(health_indicator_data)):\n",
        "        health_i = []\n",
        "        education_i = []\n",
        "        #finds the pairs by going across each country's row\n",
        "        for j in range(1990, 2018):\n",
        "            c_val = health_indicator_data[\"country_name\"].iloc[i]\n",
        "            #checks if country is in both sections and then add both to respective list\n",
        "            if c_val in list(education_index[\"country_name\"]):\n",
        "                health_i.append(health_indicator_data[str(j)].iloc[i])\n",
        "                education_i.append(education_index[education_index.country_name == c_val][str(j)].iloc[0])\n",
        "        #plots each time a country is done\n",
        "        plt.scatter(health_i, education_i, color = colors[color_index], alpha = .7)\n",
        "        color_index += 1\n",
        "    plt.xlabel(health_indep)\n",
        "    plt.ylabel(target)"
      ],
      "execution_count": 0,
      "outputs": []
    },
    {
      "cell_type": "markdown",
      "metadata": {
        "id": "h6E8p0Uu5wzk",
        "colab_type": "text"
      },
      "source": [
        "Graph of Life expectency vs Mean Years of Schooling.\n",
        "As life expectancy increases, the mean years of schooling also appears to increase. However, the variance is quite large so it is very possible that there are other indicators that could affect the mean years of schooling."
      ]
    },
    {
      "cell_type": "code",
      "metadata": {
        "colab_type": "code",
        "id": "JYGMedeEEj62",
        "colab": {
          "base_uri": "https://localhost:8080/",
          "height": 283
        },
        "outputId": "2fe36cf8-7d10-46b2-f910-a040264543f5"
      },
      "source": [
        "plot_health(inds_df, \"Life expectancy at birth (years)\", \"Mean years of schooling (years)\")"
      ],
      "execution_count": 17,
      "outputs": [
        {
          "output_type": "display_data",
          "data": {
            "image/png": "[encoded data removed]",
            "text/plain": [
              "<Figure size 432x288 with 1 Axes>"
            ]
          },
          "metadata": {
            "tags": []
          }
        }
      ]
    },
    {
      "cell_type": "code",
      "metadata": {
        "id": "aRlL4PjF5wzn",
        "colab_type": "code",
        "colab": {}
      },
      "source": [
        "def plot_health_by_country(df, health_indep, target, country):\n",
        "    health_df = df.drop(df.columns[[0, 1, 3]], axis=1)\n",
        "    #obtain rows that have the indicator matching health_indep and target respectively\n",
        "    health_indicator_data = health_df[health_df.indicator_name == health_indep]\n",
        "    education_target = health_df[health_df.indicator_name == target]\n",
        "    #if country not in both return\n",
        "    if country not in list(education_target[\"country_name\"]) or country not in list(health_indicator_data[\"country_name\"]):\n",
        "        print(\"Country value missing from a variable\")\n",
        "        return\n",
        "    #Further limits rows to the rows with country_name equal to country\n",
        "    country_health = health_indicator_data[health_indicator_data.country_name == country]\n",
        "    country_education_target = education_target[education_target.country_name == country]\n",
        "    health_i = []\n",
        "    education_i = []\n",
        "    #adds values to respective list\n",
        "    for j in range(1990, 2018):\n",
        "        health_i.append(country_health[str(j)].iloc[0])\n",
        "        education_i.append(country_education_target[country_education_target.country_name == country][str(j)].iloc[0])\n",
        "    #plots the data points for the country\n",
        "    plt.scatter(health_i, education_i)\n",
        "    plt.xlabel(health_indep)\n",
        "    plt.ylabel(target)"
      ],
      "execution_count": 0,
      "outputs": []
    },
    {
      "cell_type": "markdown",
      "metadata": {
        "id": "p_mXMznn5wzo",
        "colab_type": "text"
      },
      "source": [
        "Now let's have a look at Germany which was the highest performing country in 2017."
      ]
    },
    {
      "cell_type": "code",
      "metadata": {
        "id": "pcvIz2wG5wzp",
        "colab_type": "code",
        "colab": {
          "base_uri": "https://localhost:8080/",
          "height": 283
        },
        "outputId": "4b74d53a-f90e-4012-cded-0892450114ff"
      },
      "source": [
        "plot_health_by_country(inds_df, \"Life expectancy at birth (years)\", \"Mean years of schooling (years)\", \"Germany\")"
      ],
      "execution_count": 19,
      "outputs": [
        {
          "output_type": "display_data",
          "data": {
            "image/png": "[encoded data removed]",
            "text/plain": [
              "<Figure size 432x288 with 1 Axes>"
            ]
          },
          "metadata": {
            "tags": []
          }
        }
      ]
    },
    {
      "cell_type": "code",
      "metadata": {
        "id": "nibfDrgv5wzr",
        "colab_type": "code",
        "colab": {
          "base_uri": "https://localhost:8080/",
          "height": 283
        },
        "outputId": "67172653-9a6b-416d-f476-967d4461dc38"
      },
      "source": [
        "plot_health_by_country(inds_df, \"Life expectancy at birth (years)\", \"Mean years of schooling (years)\", \"Japan\")"
      ],
      "execution_count": 20,
      "outputs": [
        {
          "output_type": "display_data",
          "data": {
            "image/png": "[encoded data removed]",
            "text/plain": [
              "<Figure size 432x288 with 1 Axes>"
            ]
          },
          "metadata": {
            "tags": []
          }
        }
      ]
    },
    {
      "cell_type": "markdown",
      "metadata": {
        "id": "cuwboATX5wzt",
        "colab_type": "text"
      },
      "source": [
        "Let's have a look at some lower performing countries."
      ]
    },
    {
      "cell_type": "code",
      "metadata": {
        "id": "xr2DVuM_5wzw",
        "colab_type": "code",
        "colab": {
          "base_uri": "https://localhost:8080/",
          "height": 283
        },
        "outputId": "2b1fbcfd-75e5-409e-8cfb-97ace33921a7"
      },
      "source": [
        "plot_health_by_country(inds_df, \"Life expectancy at birth (years)\", \"Mean years of schooling (years)\", \"Mali\")"
      ],
      "execution_count": 21,
      "outputs": [
        {
          "output_type": "display_data",
          "data": {
            "image/png": "[encoded data removed]",
            "text/plain": [
              "<Figure size 432x288 with 1 Axes>"
            ]
          },
          "metadata": {
            "tags": []
          }
        }
      ]
    },
    {
      "cell_type": "code",
      "metadata": {
        "id": "-naBIYO_5wz1",
        "colab_type": "code",
        "colab": {
          "base_uri": "https://localhost:8080/",
          "height": 283
        },
        "outputId": "7aec33e1-8d73-4b87-db3c-b8d849afced2"
      },
      "source": [
        "plot_health_by_country(inds_df, \"Life expectancy at birth (years)\", \"Mean years of schooling (years)\", \"Rwanda\")"
      ],
      "execution_count": 22,
      "outputs": [
        {
          "output_type": "display_data",
          "data": {
            "image/png": "[encoded data removed]",
            "text/plain": [
              "<Figure size 432x288 with 1 Axes>"
            ]
          },
          "metadata": {
            "tags": []
          }
        }
      ]
    },
    {
      "cell_type": "code",
      "metadata": {
        "id": "Go46mo3b5wz7",
        "colab_type": "code",
        "colab": {
          "base_uri": "https://localhost:8080/",
          "height": 283
        },
        "outputId": "c37719e8-cce0-4c6f-998e-7b1a26aadf66"
      },
      "source": [
        "plot_health_by_country(inds_df, \"Life expectancy at birth (years)\", \"Mean years of schooling (years)\", \"Sierra Leone\")"
      ],
      "execution_count": 23,
      "outputs": [
        {
          "output_type": "display_data",
          "data": {
            "image/png": "[encoded data removed]",
            "text/plain": [
              "<Figure size 432x288 with 1 Axes>"
            ]
          },
          "metadata": {
            "tags": []
          }
        }
      ]
    },
    {
      "cell_type": "code",
      "metadata": {
        "colab_type": "code",
        "id": "pIDMoyHTEj6_",
        "colab": {}
      },
      "source": [
        "def plot_pisa(df, type_score):\n",
        "    #Retrieves the rows where the indicator is equal to the respective values\n",
        "    life_expectancy = df[df.indicator_name == \"Life expectancy at birth (years)\"]\n",
        "    pisa = df[df.indicator_name == \"Programme for International Student Assessment (PISA) score in {}\".format(type_score)]\n",
        "    life_val = []\n",
        "    pisa_val = []\n",
        "    for i in range(len(life_expectancy)):\n",
        "        c_val = life_expectancy[\"country_name\"].iloc[i]\n",
        "        #checks to see if both life_expectancy and pisa have this country entry \n",
        "        if c_val in list(pisa[\"country_name\"]):\n",
        "            life_val.append(life_expectancy[\"2015\"].iloc[i])\n",
        "            #picks out the pisa entry for that country for 2015\n",
        "            pisa_val.append(pisa[pisa.country_name == c_val][\"2015\"].iloc[0])\n",
        "    plt.xlabel(\"Life expectancy at birth (years)\")\n",
        "    plt.ylabel(\"Programme for International Student Assessment (PISA) score in {}\".format(type_score))\n",
        "    plt.scatter(life_val, pisa_val)\n",
        "    fit = np.polyfit(life_val, pisa_val, 1)\n",
        "    fit_fn = np.poly1d(fit)\n",
        "    plt.plot(life_val, fit_fn(life_val), color=\"red\")"
      ],
      "execution_count": 0,
      "outputs": []
    },
    {
      "cell_type": "markdown",
      "metadata": {
        "id": "iRL-mgxq5wz-",
        "colab_type": "text"
      },
      "source": [
        "Plots of Life expectiancy vs 2015 Pisa scores (Change threshold to 0 before running)"
      ]
    },
    {
      "cell_type": "code",
      "metadata": {
        "colab_type": "code",
        "id": "1LtV9p45Ej7B",
        "colab": {
          "base_uri": "https://localhost:8080/",
          "height": 720
        },
        "outputId": "759afbec-ce12-4a6e-c69c-b3570512c809"
      },
      "source": [
        "plot_pisa(inds_df, \"mathematics\")"
      ],
      "execution_count": 25,
      "outputs": [
        {
          "output_type": "error",
          "ename": "TypeError",
          "evalue": "ignored",
          "traceback": [
            "\u001b[0;31m---------------------------------------------------------------------------\u001b[0m",
            "\u001b[0;31mTypeError\u001b[0m                                 Traceback (most recent call last)",
            "\u001b[0;32m<ipython-input-25-93695c712b74>\u001b[0m in \u001b[0;36m<module>\u001b[0;34m()\u001b[0m\n\u001b[0;32m----> 1\u001b[0;31m \u001b[0mplot_pisa\u001b[0m\u001b[0;34m(\u001b[0m\u001b[0minds_df\u001b[0m\u001b[0;34m,\u001b[0m \u001b[0;34m\"mathematics\"\u001b[0m\u001b[0;34m)\u001b[0m\u001b[0;34m\u001b[0m\u001b[0;34m\u001b[0m\u001b[0m\n\u001b[0m",
            "\u001b[0;32m<ipython-input-24-a2ca1f514fa6>\u001b[0m in \u001b[0;36mplot_pisa\u001b[0;34m(df, type_score)\u001b[0m\n\u001b[1;32m     15\u001b[0m     \u001b[0mplt\u001b[0m\u001b[0;34m.\u001b[0m\u001b[0mylabel\u001b[0m\u001b[0;34m(\u001b[0m\u001b[0;34m\"Programme for International Student Assessment (PISA) score in {}\"\u001b[0m\u001b[0;34m.\u001b[0m\u001b[0mformat\u001b[0m\u001b[0;34m(\u001b[0m\u001b[0mtype_score\u001b[0m\u001b[0;34m)\u001b[0m\u001b[0;34m)\u001b[0m\u001b[0;34m\u001b[0m\u001b[0;34m\u001b[0m\u001b[0m\n\u001b[1;32m     16\u001b[0m     \u001b[0mplt\u001b[0m\u001b[0;34m.\u001b[0m\u001b[0mscatter\u001b[0m\u001b[0;34m(\u001b[0m\u001b[0mlife_val\u001b[0m\u001b[0;34m,\u001b[0m \u001b[0mpisa_val\u001b[0m\u001b[0;34m)\u001b[0m\u001b[0;34m\u001b[0m\u001b[0;34m\u001b[0m\u001b[0m\n\u001b[0;32m---> 17\u001b[0;31m     \u001b[0mfit\u001b[0m \u001b[0;34m=\u001b[0m \u001b[0mnp\u001b[0m\u001b[0;34m.\u001b[0m\u001b[0mpolyfit\u001b[0m\u001b[0;34m(\u001b[0m\u001b[0mlife_val\u001b[0m\u001b[0;34m,\u001b[0m \u001b[0mpisa_val\u001b[0m\u001b[0;34m,\u001b[0m \u001b[0;36m1\u001b[0m\u001b[0;34m)\u001b[0m\u001b[0;34m\u001b[0m\u001b[0;34m\u001b[0m\u001b[0m\n\u001b[0m\u001b[1;32m     18\u001b[0m     \u001b[0mfit_fn\u001b[0m \u001b[0;34m=\u001b[0m \u001b[0mnp\u001b[0m\u001b[0;34m.\u001b[0m\u001b[0mpoly1d\u001b[0m\u001b[0;34m(\u001b[0m\u001b[0mfit\u001b[0m\u001b[0;34m)\u001b[0m\u001b[0;34m\u001b[0m\u001b[0;34m\u001b[0m\u001b[0m\n\u001b[1;32m     19\u001b[0m     \u001b[0mplt\u001b[0m\u001b[0;34m.\u001b[0m\u001b[0mplot\u001b[0m\u001b[0;34m(\u001b[0m\u001b[0mlife_val\u001b[0m\u001b[0;34m,\u001b[0m \u001b[0mfit_fn\u001b[0m\u001b[0;34m(\u001b[0m\u001b[0mlife_val\u001b[0m\u001b[0;34m)\u001b[0m\u001b[0;34m,\u001b[0m \u001b[0mcolor\u001b[0m\u001b[0;34m=\u001b[0m\u001b[0;34m\"red\"\u001b[0m\u001b[0;34m)\u001b[0m\u001b[0;34m\u001b[0m\u001b[0;34m\u001b[0m\u001b[0m\n",
            "\u001b[0;32m/usr/local/lib/python3.6/dist-packages/numpy/lib/polynomial.py\u001b[0m in \u001b[0;36mpolyfit\u001b[0;34m(x, y, deg, rcond, full, w, cov)\u001b[0m\n\u001b[1;32m    596\u001b[0m         \u001b[0;32mraise\u001b[0m \u001b[0mTypeError\u001b[0m\u001b[0;34m(\u001b[0m\u001b[0;34m\"expected 1D vector for x\"\u001b[0m\u001b[0;34m)\u001b[0m\u001b[0;34m\u001b[0m\u001b[0;34m\u001b[0m\u001b[0m\n\u001b[1;32m    597\u001b[0m     \u001b[0;32mif\u001b[0m \u001b[0mx\u001b[0m\u001b[0;34m.\u001b[0m\u001b[0msize\u001b[0m \u001b[0;34m==\u001b[0m \u001b[0;36m0\u001b[0m\u001b[0;34m:\u001b[0m\u001b[0;34m\u001b[0m\u001b[0;34m\u001b[0m\u001b[0m\n\u001b[0;32m--> 598\u001b[0;31m         \u001b[0;32mraise\u001b[0m \u001b[0mTypeError\u001b[0m\u001b[0;34m(\u001b[0m\u001b[0;34m\"expected non-empty vector for x\"\u001b[0m\u001b[0;34m)\u001b[0m\u001b[0;34m\u001b[0m\u001b[0;34m\u001b[0m\u001b[0m\n\u001b[0m\u001b[1;32m    599\u001b[0m     \u001b[0;32mif\u001b[0m \u001b[0my\u001b[0m\u001b[0;34m.\u001b[0m\u001b[0mndim\u001b[0m \u001b[0;34m<\u001b[0m \u001b[0;36m1\u001b[0m \u001b[0;32mor\u001b[0m \u001b[0my\u001b[0m\u001b[0;34m.\u001b[0m\u001b[0mndim\u001b[0m \u001b[0;34m>\u001b[0m \u001b[0;36m2\u001b[0m\u001b[0;34m:\u001b[0m\u001b[0;34m\u001b[0m\u001b[0;34m\u001b[0m\u001b[0m\n\u001b[1;32m    600\u001b[0m         \u001b[0;32mraise\u001b[0m \u001b[0mTypeError\u001b[0m\u001b[0;34m(\u001b[0m\u001b[0;34m\"expected 1D or 2D array for y\"\u001b[0m\u001b[0;34m)\u001b[0m\u001b[0;34m\u001b[0m\u001b[0;34m\u001b[0m\u001b[0m\n",
            "\u001b[0;31mTypeError\u001b[0m: expected non-empty vector for x"
          ]
        },
        {
          "output_type": "display_data",
          "data": {
            "image/png": "[encoded data removed]",
            "text/plain": [
              "<Figure size 432x288 with 1 Axes>"
            ]
          },
          "metadata": {
            "tags": []
          }
        }
      ]
    },
    {
      "cell_type": "code",
      "metadata": {
        "colab_type": "code",
        "id": "WCLLCFbNEj7E",
        "colab": {}
      },
      "source": [
        "plot_pisa(inds_df, \"reading\")"
      ],
      "execution_count": 0,
      "outputs": []
    },
    {
      "cell_type": "code",
      "metadata": {
        "colab_type": "code",
        "id": "olX6GhUmEj7G",
        "colab": {}
      },
      "source": [
        "plot_pisa(inds_df, \"science\")"
      ],
      "execution_count": 0,
      "outputs": []
    },
    {
      "cell_type": "code",
      "metadata": {
        "colab_type": "code",
        "id": "u7n9A6iREj7I",
        "colab": {}
      },
      "source": [
        "plot_country_life_vs_edu(inds_df, \"Life expectancy at birth (years)\", \"Mean years of schooling (years)\", \"Rwanda\")"
      ],
      "execution_count": 0,
      "outputs": []
    },
    {
      "cell_type": "code",
      "metadata": {
        "colab_type": "code",
        "id": "m9B8_9s_Ej7M",
        "colab": {}
      },
      "source": [
        "plot_country_life_vs_edu(inds_df, \"Life expectancy at birth (years)\", \"Mean years of schooling (years)\", \"Sierra Leone\")"
      ],
      "execution_count": 0,
      "outputs": []
    },
    {
      "cell_type": "markdown",
      "metadata": {
        "id": "ORaL8Mgs5w0L",
        "colab_type": "text"
      },
      "source": [
        "Creates a bar graph for the countries with the highest education indexes for each year. In addition to this future prediction graphs are created using the Education Index Model."
      ]
    },
    {
      "cell_type": "code",
      "metadata": {
        "colab_type": "code",
        "id": "TyAs-dGkEj7T",
        "colab": {}
      },
      "source": [
        "def plot_education_index(df):\n",
        "    new_df = df.drop(df.columns[[0, 1, 3]], axis=1)\n",
        "    new_df = new_df[new_df.indicator_name == \"Education index\"]\n",
        "    countries = []\n",
        "    for i in range(0, len(new_df)):\n",
        "        countries.append(new_df[\"country_name\"].iloc[i])\n",
        "    #y_pos = np.arange(len(countries))\n",
        "    #year_education_inds = []\n",
        "    for year in range(1990, 2018):\n",
        "        education_ind = []\n",
        "        for i in range(0, len(new_df)):\n",
        "            if str(new_df[str(year)].iloc[i]) == \"nan\":\n",
        "                education_ind.append(0)\n",
        "            else:\n",
        "                education_ind.append(float(new_df[str(year)].iloc[i]))      \n",
        "        #year_education_inds.append(education_ind)\n",
        "        edu_idx_list = [[countries[j], education_ind[j]] for j in range(len(countries))]\n",
        "        edu_idx_list.sort(key=lambda x: x[1])\n",
        "        #print(edu_idx_list)\n",
        "        top_x_vals = []\n",
        "        top_y_vals = []\n",
        "        indicator_num = 20\n",
        "        for j in range(indicator_num):\n",
        "            top_x_vals.append(edu_idx_list[len(edu_idx_list) - indicator_num + j][0])\n",
        "            top_y_vals.append(edu_idx_list[len(edu_idx_list) - indicator_num + j][1])\n",
        "        y_pos = np.arange(len(top_x_vals))\n",
        "        plt.figure(figsize=(10,10))\n",
        "        plt.barh(y_pos, top_y_vals, align='center', alpha=0.5)\n",
        "        plt.yticks(y_pos, top_x_vals)\n",
        "        plt.xlabel('Education index')\n",
        "        plt.title(\"Countries with Highest Educational Attainment in {}\".format(year))\n",
        "    prediction_plot(countries, 2018, 2025)"
      ],
      "execution_count": 0,
      "outputs": []
    },
    {
      "cell_type": "code",
      "metadata": {
        "id": "IrSZlFlD5w0N",
        "colab_type": "code",
        "colab": {}
      },
      "source": [
        "def prediction_plot(countries, year_start, year_end):\n",
        "    y_pos = np.arange(len(countries))\n",
        "    y_val_dict = {}\n",
        "    for i in range(year_start, year_end + 1):\n",
        "        y_val_dict[i] = []\n",
        "    #for country in countries:\n",
        "    country_amt = 0\n",
        "    for country in country_indicators:\n",
        "        eim.fit(inds_df, country, country_indicators[country])\n",
        "        ret_val = eim.predict_year([year for year in range(year_start, year_end + 1)])\n",
        "        for year in range(year_start, year_end + 1):\n",
        "            y_val_dict[year].append(ret_val[year - year_start])\n",
        "        country_amt += 1\n",
        "    for year in range(year_start, year_end + 1):\n",
        "        #edu_idx_list = [[countries[j], y_val_dict[year][j]] for j in range(len(countries))]\n",
        "        edu_idx_list = [[countries[j], y_val_dict[year][j]] for j in range(country_amt)]\n",
        "        edu_idx_list.sort(key=lambda x: x[1])\n",
        "        top_x_vals = []\n",
        "        top_y_vals = []\n",
        "        indicator_num = 20\n",
        "        for j in range(indicator_num):\n",
        "            top_x_vals.append(edu_idx_list[len(edu_idx_list) - indicator_num + j][0])\n",
        "            top_y_vals.append(edu_idx_list[len(edu_idx_list) - indicator_num + j][1])\n",
        "        y_pos = np.arange(len(top_x_vals))\n",
        "        plt.figure(figsize=(10,10))\n",
        "        plt.barh(y_pos, top_y_vals, align='center', alpha=0.5)\n",
        "        plt.yticks(y_pos, top_x_vals)\n",
        "        plt.xlabel('Education index')\n",
        "        plt.title(\"Countries with Highest Educational Attainment in {}\".format(year))"
      ],
      "execution_count": 0,
      "outputs": []
    },
    {
      "cell_type": "code",
      "metadata": {
        "colab_type": "code",
        "id": "p1qqWm0PEj7W",
        "colab": {}
      },
      "source": [
        "plot_education_index(inds_df)"
      ],
      "execution_count": 0,
      "outputs": []
    },
    {
      "cell_type": "markdown",
      "metadata": {
        "colab_type": "text",
        "id": "Q_GN-sX9hNKD"
      },
      "source": [
        "*The Effect of Government Spending on Education*\\\n",
        "We will be exploring the effects of government spending while looking at education index and PISA scores. Our pisa scores were filtered out previously because of our thresh hold so run the following cell to get a fresh inds_df"
      ]
    },
    {
      "cell_type": "code",
      "metadata": {
        "colab_type": "code",
        "id": "zBmqIrzOjJ5q",
        "colab": {}
      },
      "source": [
        "# Loading Datasets on to DataFrames\n",
        "indicators_url = 'https://github.com/chc5/education-indicator-analysis/raw/master/2018_all_indicators.csv'\n",
        "education_url = 'https://github.com/chc5/education-indicator-analysis/raw/master/adult_education_level.csv'\n",
        "\n",
        "inds_df = pd.read_csv(indicators_url)\n",
        "ed_df = pd.read_csv(education_url)\n",
        "\n",
        "inds_df = inds_df.drop(columns=['9999'])\n",
        "\n",
        "threshold = 0\n",
        "drop_stack = set()\n",
        "length_before = len(inds_df)\n",
        "print(\"Number of rows in the indicators data frame before the cleanup:\", length_before)\n",
        "for index, row in inds_df.iterrows():\n",
        "    if row['1990':].count() <= threshold:\n",
        "        drop_stack.add(index)\n",
        "\n",
        "inds_df = inds_df.drop(drop_stack)\n",
        "length_after = len(inds_df)\n",
        "print(\"Number of rows in the indicators data frame after the cleanup:\", length_after)\n",
        "print(\"% of rows deleted: {0:.2f}%\".format((length_before - length_after) * 100 / length_after))\n",
        "\n"
      ],
      "execution_count": 0,
      "outputs": []
    },
    {
      "cell_type": "code",
      "metadata": {
        "colab_type": "code",
        "id": "At0GrE5Mhc3j",
        "colab": {}
      },
      "source": [
        "def get_xy_lists(xkey, ykey, inds_df):\n",
        "  comparematrix = [[],[]]\n",
        "  print(comparematrix)\n",
        "  for i in country_names :\n",
        "    df_corr = plot_corr_country(inds_df, i)\n",
        "    if xkey in df_corr :\n",
        "      for yearnum in range(2015, 2016):\n",
        "        year = str(yearnum)\n",
        "        try :\n",
        "          xvalue = float(df_corr[xkey].loc[year])\n",
        "          if not np.isnan(xvalue):\n",
        "            comparematrix[0].append(xvalue)\n",
        "            comparematrix[1].append(float(df_corr[ykey].loc[year]))\n",
        "            break\n",
        "        except KeyError as e :\n",
        "          if len(comparematrix[0]) > len(comparematrix[1]) :\n",
        "            comparematrix[0].pop()\n",
        "          elif len(comparematrix[1]) > len(comparematrix[0]) :\n",
        "            comparematrix[1].pop()\n",
        "          break\n",
        "  return comparematrix\n",
        "\n",
        "country_names = inds_df.country_name.unique()"
      ],
      "execution_count": 0,
      "outputs": []
    },
    {
      "cell_type": "code",
      "metadata": {
        "colab_type": "code",
        "id": "lFk3uneDhkyl",
        "colab": {}
      },
      "source": [
        "xkey = 'Government expenditure on education (% of GDP)'\n",
        "ykey = 'Mean years of schooling (years)'\n",
        "comparematrix = get_xy_lists(xkey, ykey, inds_df)\n",
        "plt.scatter(comparematrix[0], comparematrix[1])\n",
        "plt.xlabel(xkey)\n",
        "plt.ylabel(ykey)"
      ],
      "execution_count": 0,
      "outputs": []
    },
    {
      "cell_type": "code",
      "metadata": {
        "colab_type": "code",
        "id": "oHuqylAXhonD",
        "colab": {}
      },
      "source": [
        "ykey = 'Programme for International Student Assessment (PISA) score in mathematics'\n",
        "xkey = 'Mean years of schooling (years)'\n",
        "comparematrix = get_xy_lists(xkey, ykey, inds_df)\n",
        "plt.scatter(comparematrix[0], comparematrix[1])\n",
        "plt.xlabel(xkey)\n",
        "plt.ylabel(ykey)"
      ],
      "execution_count": 0,
      "outputs": []
    },
    {
      "cell_type": "code",
      "metadata": {
        "colab_type": "code",
        "id": "-Stbt7rchrXT",
        "colab": {}
      },
      "source": [
        "xkey = 'GDP per capita (2011 PPP $)'\n",
        "ykey = 'Mean years of schooling (years)'\n",
        "comparematrix = get_xy_lists(xkey, ykey, inds_df)\n",
        "plt.scatter(comparematrix[0], comparematrix[1])\n",
        "plt.xlabel(xkey)\n",
        "plt.ylabel(ykey)"
      ],
      "execution_count": 0,
      "outputs": []
    },
    {
      "cell_type": "code",
      "metadata": {
        "colab_type": "code",
        "id": "x2HXZlNwhwEn",
        "colab": {}
      },
      "source": [
        "def get_xy_gdp(ykey, inds_df):\n",
        "  xkey1 = 'GDP per capita (2011 PPP $)'\n",
        "  xkey2 = 'Government expenditure on education (% of GDP)'\n",
        "  xkey3 = 'Total population (millions)'\n",
        "  comparematrix = [[],[]]\n",
        "  print(comparematrix)\n",
        "  for i in country_names :\n",
        "    df_corr = plot_corr_country(inds_df, i)\n",
        "    if xkey in df_corr :\n",
        "      for yearnum in range(2013, 2016):\n",
        "        year = str(yearnum)\n",
        "        try :\n",
        "          gdppercap = float(df_corr[xkey1].loc[year]) * float(df_corr[xkey2].loc[year])/100\n",
        "          if not np.isnan(gdppercap):\n",
        "            comparematrix[0].append(gdppercap)\n",
        "            comparematrix[1].append(float(df_corr[ykey].loc['2015']))\n",
        "            break\n",
        "        except KeyError as e :\n",
        "          if len(comparematrix[0]) > len(comparematrix[1]) :\n",
        "            comparematrix[0].pop()\n",
        "          elif len(comparematrix[1]) > len(comparematrix[0]) :\n",
        "            comparematrix[1].pop()\n",
        "          break\n",
        "  return comparematrix\n",
        "\n",
        "ykey = 'Programme for International Student Assessment (PISA) score in mathematics'\n",
        "comparematrix = get_xy_gdp(ykey, inds_df)\n",
        "\n",
        "plt.xlabel('% GDP per capita spent on education ')\n",
        "plt.ylabel(ykey)\n",
        "\n",
        "pairs = sorted(list(zip(comparematrix[0], comparematrix[1])), key=lambda x: x[0])\n",
        "comparematrix[0], comparematrix[1] = zip(*pairs)\n",
        "comparematrix[0] =list(comparematrix[0])\n",
        "comparematrix[1] =list(comparematrix[1])\n",
        "comparematrix[0].pop()\n",
        "comparematrix[1].pop()\n",
        "plt.scatter(comparematrix[0], comparematrix[1])\n",
        "boundary = 32\n",
        "plt.plot(np.unique(comparematrix[0][0:boundary]), np.poly1d(np.polyfit(comparematrix[0][0:boundary], comparematrix[1][0:boundary], 1))(np.unique(comparematrix[0][0:boundary])))\n",
        "plt.plot(np.unique(comparematrix[0][boundary:]), np.poly1d(np.polyfit(comparematrix[0][boundary:], comparematrix[1][boundary:], 1))(np.unique(comparematrix[0][boundary:])))"
      ],
      "execution_count": 0,
      "outputs": []
    }
  ]
}